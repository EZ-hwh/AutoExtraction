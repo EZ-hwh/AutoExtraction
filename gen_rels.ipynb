{
 "cells": [
  {
   "cell_type": "code",
   "execution_count": 1,
   "metadata": {},
   "outputs": [],
   "source": [
    "import json\n",
    "\n",
    "rels = {}\n",
    "dataset = 'DuEE1.0'\n",
    "with open(f'data/{dataset}/duee_train.json', 'r', encoding='utf-8') as f:\n",
    "    with open(f'data/{dataset}/rel2id.json', 'w', encoding='utf-8') as f1:\n",
    "        for line in f.readlines():\n",
    "            res = json.loads(line)\n",
    "            for item in res['event_list']:\n",
    "                if item['event_type'] in rels.keys():\n",
    "                    continue\n",
    "                else:\n",
    "                    rels[item['event_type']] = len(rels)\n",
    "                \n",
    "        f1.write(json.dumps(rels,ensure_ascii=False,indent=4))"
   ]
  },
  {
   "cell_type": "code",
   "execution_count": 10,
   "metadata": {},
   "outputs": [],
   "source": [
    "import json\n",
    "\n",
    "rels = {}\n",
    "dataset = 'NYT11-HRL'\n",
    "with open(f'dataset/{dataset}/new_train.json', 'r', encoding='utf-8') as f:\n",
    "    with open(f'dataset/{dataset}/rel_count.json', 'w', encoding='utf-8') as f1:\n",
    "        for line in f.readlines():\n",
    "            res = json.loads(line)\n",
    "            for item in res['relationMentions']:\n",
    "                if item['label'] not in rels.keys():\n",
    "                    rels[item['label']] = 1\n",
    "                else:\n",
    "                    rels[item['label']] += 1\n",
    "                \n",
    "        f1.write(json.dumps(rels,ensure_ascii=False,indent=4))"
   ]
  },
  {
   "cell_type": "code",
   "execution_count": null,
   "metadata": {},
   "outputs": [],
   "source": []
  }
 ],
 "metadata": {
  "kernelspec": {
   "display_name": "Python 3.7.13 ('harry_torch')",
   "language": "python",
   "name": "python3"
  },
  "language_info": {
   "codemirror_mode": {
    "name": "ipython",
    "version": 3
   },
   "file_extension": ".py",
   "mimetype": "text/x-python",
   "name": "python",
   "nbconvert_exporter": "python",
   "pygments_lexer": "ipython3",
   "version": "3.7.13"
  },
  "orig_nbformat": 4,
  "vscode": {
   "interpreter": {
    "hash": "22f3c13e4593fc7d82b380fe6e88ae0e60361bfe10f478d0fd0447177e41f35d"
   }
  }
 },
 "nbformat": 4,
 "nbformat_minor": 2
}
